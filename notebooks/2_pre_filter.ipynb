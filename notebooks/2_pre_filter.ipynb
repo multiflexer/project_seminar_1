{
 "cells": [
  {
   "cell_type": "code",
   "execution_count": 1,
   "id": "97855888",
   "metadata": {},
   "outputs": [],
   "source": [
    "import pandas as pd"
   ]
  },
  {
   "cell_type": "code",
   "execution_count": 11,
   "id": "f5d9b94c",
   "metadata": {},
   "outputs": [
    {
     "data": {
      "text/plain": [
       "(150000, 4)"
      ]
     },
     "execution_count": 11,
     "metadata": {},
     "output_type": "execute_result"
    }
   ],
   "source": [
    "data_0 = pd.read_csv(\"../data/pre_classified_data_0.csv\", lineterminator='\\n', index_col=False)\n",
    "data_1 = pd.read_csv(\"../data/pre_classified_data_1.csv\", lineterminator='\\n', index_col=False)\n",
    "data_2 = pd.read_csv(\"../data/pre_classified_data_2.csv\", lineterminator='\\n', index_col=False)\n",
    "data = pd.concat([data_0, data_1, data_2])\n",
    "data.shape"
   ]
  },
  {
   "cell_type": "code",
   "execution_count": 12,
   "id": "7b9d09a0",
   "metadata": {},
   "outputs": [
    {
     "data": {
      "text/plain": [
       "(150000, 4)"
      ]
     },
     "execution_count": 12,
     "metadata": {},
     "output_type": "execute_result"
    }
   ],
   "source": [
    "data.shape"
   ]
  },
  {
   "cell_type": "markdown",
   "id": "52266ef0",
   "metadata": {},
   "source": [
    "## Фильтруем отзывы: оставляем только те, у которых анализ тональности показал соответствие с полем target"
   ]
  },
  {
   "cell_type": "code",
   "execution_count": 13,
   "id": "caf9ac66",
   "metadata": {},
   "outputs": [
    {
     "data": {
      "text/html": [
       "<div>\n",
       "<style scoped>\n",
       "    .dataframe tbody tr th:only-of-type {\n",
       "        vertical-align: middle;\n",
       "    }\n",
       "\n",
       "    .dataframe tbody tr th {\n",
       "        vertical-align: top;\n",
       "    }\n",
       "\n",
       "    .dataframe thead th {\n",
       "        text-align: right;\n",
       "    }\n",
       "</style>\n",
       "<table border=\"1\" class=\"dataframe\">\n",
       "  <thead>\n",
       "    <tr style=\"text-align: right;\">\n",
       "      <th></th>\n",
       "      <th>review</th>\n",
       "      <th>rating</th>\n",
       "      <th>target</th>\n",
       "      <th>pre_class</th>\n",
       "    </tr>\n",
       "  </thead>\n",
       "  <tbody>\n",
       "    <tr>\n",
       "      <th>0</th>\n",
       "      <td>3D Touch просто восхитительная вещь! Заряд дер...</td>\n",
       "      <td>5</td>\n",
       "      <td>1</td>\n",
       "      <td>POSITIVE</td>\n",
       "    </tr>\n",
       "    <tr>\n",
       "      <th>2</th>\n",
       "      <td>В Apple окончательно решили не заморачиваться,...</td>\n",
       "      <td>3</td>\n",
       "      <td>0</td>\n",
       "      <td>NEUTRAL</td>\n",
       "    </tr>\n",
       "    <tr>\n",
       "      <th>3</th>\n",
       "      <td>Постарался наиболее ёмко и коротко описать все...</td>\n",
       "      <td>4</td>\n",
       "      <td>1</td>\n",
       "      <td>NEUTRAL</td>\n",
       "    </tr>\n",
       "    <tr>\n",
       "      <th>4</th>\n",
       "      <td>Достойный телефон. Пользоваться одно удовольст...</td>\n",
       "      <td>5</td>\n",
       "      <td>1</td>\n",
       "      <td>POSITIVE</td>\n",
       "    </tr>\n",
       "    <tr>\n",
       "      <th>5</th>\n",
       "      <td>6s gold 64gb</td>\n",
       "      <td>5</td>\n",
       "      <td>1</td>\n",
       "      <td>NEUTRAL</td>\n",
       "    </tr>\n",
       "  </tbody>\n",
       "</table>\n",
       "</div>"
      ],
      "text/plain": [
       "                                              review  rating  target pre_class\n",
       "0  3D Touch просто восхитительная вещь! Заряд дер...       5       1  POSITIVE\n",
       "2  В Apple окончательно решили не заморачиваться,...       3       0   NEUTRAL\n",
       "3  Постарался наиболее ёмко и коротко описать все...       4       1   NEUTRAL\n",
       "4  Достойный телефон. Пользоваться одно удовольст...       5       1  POSITIVE\n",
       "5                                       6s gold 64gb       5       1   NEUTRAL"
      ]
     },
     "execution_count": 13,
     "metadata": {},
     "output_type": "execute_result"
    }
   ],
   "source": [
    "data = data.query(\"(target == 1 & pre_class == 'POSITIVE') | (target == 0 & pre_class == 'NEGATIVE') | pre_class == 'NEUTRAL'\")\n",
    "data.head()"
   ]
  },
  {
   "cell_type": "code",
   "execution_count": 14,
   "id": "5aa5d34d",
   "metadata": {},
   "outputs": [
    {
     "data": {
      "text/plain": [
       "(127567, 4)"
      ]
     },
     "execution_count": 14,
     "metadata": {},
     "output_type": "execute_result"
    }
   ],
   "source": [
    "data.shape"
   ]
  },
  {
   "cell_type": "markdown",
   "id": "d89ed471",
   "metadata": {},
   "source": [
    "## Сохраняем результат в файл"
   ]
  },
  {
   "cell_type": "code",
   "execution_count": 15,
   "id": "b00ae83f",
   "metadata": {},
   "outputs": [],
   "source": [
    "data[[\"review\", \"target\"]].to_csv(\"../data/pre_filtered_data.csv\", index=False)"
   ]
  },
  {
   "cell_type": "code",
   "execution_count": null,
   "id": "ff47bba4",
   "metadata": {},
   "outputs": [],
   "source": []
  }
 ],
 "metadata": {
  "kernelspec": {
   "display_name": "venv",
   "language": "python",
   "name": "venv"
  },
  "language_info": {
   "codemirror_mode": {
    "name": "ipython",
    "version": 3
   },
   "file_extension": ".py",
   "mimetype": "text/x-python",
   "name": "python",
   "nbconvert_exporter": "python",
   "pygments_lexer": "ipython3",
   "version": "3.8.10"
  },
  "varInspector": {
   "cols": {
    "lenName": 16,
    "lenType": 16,
    "lenVar": 40
   },
   "kernels_config": {
    "python": {
     "delete_cmd_postfix": "",
     "delete_cmd_prefix": "del ",
     "library": "var_list.py",
     "varRefreshCmd": "print(var_dic_list())"
    },
    "r": {
     "delete_cmd_postfix": ") ",
     "delete_cmd_prefix": "rm(",
     "library": "var_list.r",
     "varRefreshCmd": "cat(var_dic_list()) "
    }
   },
   "types_to_exclude": [
    "module",
    "function",
    "builtin_function_or_method",
    "instance",
    "_Feature"
   ],
   "window_display": false
  }
 },
 "nbformat": 4,
 "nbformat_minor": 5
}
