{
 "cells": [
  {
   "cell_type": "code",
   "execution_count": 62,
   "id": "519b5a21",
   "metadata": {},
   "outputs": [],
   "source": [
    "# !pip install tensorflow-gpu\n",
    "# !pip install deeppavlov\n",
    "# !python -m deeppavlov install squad_bert\n",
    "# !pip install fasttext\n",
    "# !pip install transformers\n",
    "# !python -m deeppavlov install bert_sentence_embedder\n",
    "# %pip install torch\n",
    "from transformers import pipeline, AutoTokenizer, AutoModelForSequenceClassification\n",
    "import pandas as pd\n",
    "import torch"
   ]
  },
  {
   "cell_type": "markdown",
   "id": "9542ebf2",
   "metadata": {},
   "source": [
    "## Загружаем предобученую модель для анализа тональности текста"
   ]
  },
  {
   "cell_type": "code",
   "execution_count": 63,
   "id": "a2ff26d8",
   "metadata": {},
   "outputs": [],
   "source": [
    "# https://huggingface.co/Tatyana/rubert-base-cased-sentiment-new\n",
    "tokenizer = AutoTokenizer.from_pretrained(\"Tatyana/rubert-base-cased-sentiment-new\")\n",
    "model = AutoModelForSequenceClassification.from_pretrained(\"Tatyana/rubert-base-cased-sentiment-new\")"
   ]
  },
  {
   "cell_type": "code",
   "execution_count": 64,
   "id": "9f4f155e",
   "metadata": {},
   "outputs": [],
   "source": [
    "def classify_text(text):\n",
    "    inputs = tokenizer(text, return_tensors=\"pt\")\n",
    "\n",
    "    with torch.no_grad():\n",
    "        logits = model(**inputs).logits\n",
    "\n",
    "    return model.config.id2label[logits.argmax().item()]"
   ]
  },
  {
   "cell_type": "markdown",
   "id": "ee8f1aa3",
   "metadata": {},
   "source": [
    "## Делаем некоторые преобразования в данных"
   ]
  },
  {
   "cell_type": "code",
   "execution_count": 70,
   "id": "1077660d",
   "metadata": {},
   "outputs": [
    {
     "data": {
      "text/html": [
       "<div>\n",
       "<style scoped>\n",
       "    .dataframe tbody tr th:only-of-type {\n",
       "        vertical-align: middle;\n",
       "    }\n",
       "\n",
       "    .dataframe tbody tr th {\n",
       "        vertical-align: top;\n",
       "    }\n",
       "\n",
       "    .dataframe thead th {\n",
       "        text-align: right;\n",
       "    }\n",
       "</style>\n",
       "<table border=\"1\" class=\"dataframe\">\n",
       "  <thead>\n",
       "    <tr style=\"text-align: right;\">\n",
       "      <th></th>\n",
       "      <th>review</th>\n",
       "      <th>rating</th>\n",
       "      <th>target</th>\n",
       "    </tr>\n",
       "  </thead>\n",
       "  <tbody>\n",
       "    <tr>\n",
       "      <th>0</th>\n",
       "      <td>3D Touch просто восхитительная вещь! Заряд дер...</td>\n",
       "      <td>5</td>\n",
       "      <td>1</td>\n",
       "    </tr>\n",
       "    <tr>\n",
       "      <th>1</th>\n",
       "      <td>Отключается при температуре близкой к нулю, не...</td>\n",
       "      <td>4</td>\n",
       "      <td>1</td>\n",
       "    </tr>\n",
       "    <tr>\n",
       "      <th>2</th>\n",
       "      <td>В Apple окончательно решили не заморачиваться,...</td>\n",
       "      <td>3</td>\n",
       "      <td>0</td>\n",
       "    </tr>\n",
       "    <tr>\n",
       "      <th>3</th>\n",
       "      <td>Постарался наиболее ёмко и коротко описать все...</td>\n",
       "      <td>4</td>\n",
       "      <td>1</td>\n",
       "    </tr>\n",
       "    <tr>\n",
       "      <th>4</th>\n",
       "      <td>Достойный телефон. Пользоваться одно удовольст...</td>\n",
       "      <td>5</td>\n",
       "      <td>1</td>\n",
       "    </tr>\n",
       "  </tbody>\n",
       "</table>\n",
       "</div>"
      ],
      "text/plain": [
       "                                              review  rating  target\n",
       "0  3D Touch просто восхитительная вещь! Заряд дер...       5       1\n",
       "1  Отключается при температуре близкой к нулю, не...       4       1\n",
       "2  В Apple окончательно решили не заморачиваться,...       3       0\n",
       "3  Постарался наиболее ёмко и коротко описать все...       4       1\n",
       "4  Достойный телефон. Пользоваться одно удовольст...       5       1"
      ]
     },
     "execution_count": 70,
     "metadata": {},
     "output_type": "execute_result"
    }
   ],
   "source": [
    "data = pd.read_csv('data/data.csv').dropna()\n",
    "data = data.rename(columns={\"Rating\": \"rating\", \"Review\": \"review\"})\n",
    "data[\"target\"] = data.rating.map(lambda x: 1 if x >= 4 else 0)\n",
    "data.head()"
   ]
  },
  {
   "cell_type": "code",
   "execution_count": 71,
   "id": "b68823d6",
   "metadata": {},
   "outputs": [
    {
     "data": {
      "text/plain": [
       "(99, 3)"
      ]
     },
     "execution_count": 71,
     "metadata": {},
     "output_type": "execute_result"
    }
   ],
   "source": [
    "data.shape"
   ]
  },
  {
   "cell_type": "markdown",
   "id": "01a781aa",
   "metadata": {},
   "source": [
    "## Добавляем новую колонку - результат анализа тональности текста"
   ]
  },
  {
   "cell_type": "code",
   "execution_count": 72,
   "id": "b404bd2a",
   "metadata": {},
   "outputs": [
    {
     "data": {
      "text/html": [
       "<div>\n",
       "<style scoped>\n",
       "    .dataframe tbody tr th:only-of-type {\n",
       "        vertical-align: middle;\n",
       "    }\n",
       "\n",
       "    .dataframe tbody tr th {\n",
       "        vertical-align: top;\n",
       "    }\n",
       "\n",
       "    .dataframe thead th {\n",
       "        text-align: right;\n",
       "    }\n",
       "</style>\n",
       "<table border=\"1\" class=\"dataframe\">\n",
       "  <thead>\n",
       "    <tr style=\"text-align: right;\">\n",
       "      <th></th>\n",
       "      <th>review</th>\n",
       "      <th>rating</th>\n",
       "      <th>target</th>\n",
       "      <th>pre_class</th>\n",
       "    </tr>\n",
       "  </thead>\n",
       "  <tbody>\n",
       "    <tr>\n",
       "      <th>0</th>\n",
       "      <td>3D Touch просто восхитительная вещь! Заряд дер...</td>\n",
       "      <td>5</td>\n",
       "      <td>1</td>\n",
       "      <td>POSITIVE</td>\n",
       "    </tr>\n",
       "    <tr>\n",
       "      <th>1</th>\n",
       "      <td>Отключается при температуре близкой к нулю, не...</td>\n",
       "      <td>4</td>\n",
       "      <td>1</td>\n",
       "      <td>NEGATIVE</td>\n",
       "    </tr>\n",
       "    <tr>\n",
       "      <th>2</th>\n",
       "      <td>В Apple окончательно решили не заморачиваться,...</td>\n",
       "      <td>3</td>\n",
       "      <td>0</td>\n",
       "      <td>NEUTRAL</td>\n",
       "    </tr>\n",
       "    <tr>\n",
       "      <th>3</th>\n",
       "      <td>Постарался наиболее ёмко и коротко описать все...</td>\n",
       "      <td>4</td>\n",
       "      <td>1</td>\n",
       "      <td>NEUTRAL</td>\n",
       "    </tr>\n",
       "    <tr>\n",
       "      <th>4</th>\n",
       "      <td>Достойный телефон. Пользоваться одно удовольст...</td>\n",
       "      <td>5</td>\n",
       "      <td>1</td>\n",
       "      <td>POSITIVE</td>\n",
       "    </tr>\n",
       "  </tbody>\n",
       "</table>\n",
       "</div>"
      ],
      "text/plain": [
       "                                              review  rating  target pre_class\n",
       "0  3D Touch просто восхитительная вещь! Заряд дер...       5       1  POSITIVE\n",
       "1  Отключается при температуре близкой к нулю, не...       4       1  NEGATIVE\n",
       "2  В Apple окончательно решили не заморачиваться,...       3       0   NEUTRAL\n",
       "3  Постарался наиболее ёмко и коротко описать все...       4       1   NEUTRAL\n",
       "4  Достойный телефон. Пользоваться одно удовольст...       5       1  POSITIVE"
      ]
     },
     "execution_count": 72,
     "metadata": {},
     "output_type": "execute_result"
    }
   ],
   "source": [
    "data[\"pre_class\"] = data.review.map(str).map(classify_text)\n",
    "data.head()"
   ]
  },
  {
   "cell_type": "code",
   "execution_count": 74,
   "id": "8614d6cc",
   "metadata": {},
   "outputs": [
    {
     "data": {
      "text/plain": [
       "(99, 4)"
      ]
     },
     "execution_count": 74,
     "metadata": {},
     "output_type": "execute_result"
    }
   ],
   "source": [
    "data.shape"
   ]
  },
  {
   "cell_type": "markdown",
   "id": "7bac92f9",
   "metadata": {},
   "source": [
    "## Сохраняем результат отдельным файлом"
   ]
  },
  {
   "cell_type": "code",
   "execution_count": 77,
   "id": "d7c7197e",
   "metadata": {},
   "outputs": [],
   "source": [
    "data.to_csv('data/pre_classified_data.csv', index=False)"
   ]
  },
  {
   "cell_type": "code",
   "execution_count": null,
   "id": "93a361b4",
   "metadata": {},
   "outputs": [],
   "source": []
  }
 ],
 "metadata": {
  "kernelspec": {
   "display_name": "venv",
   "language": "python",
   "name": "venv"
  },
  "language_info": {
   "codemirror_mode": {
    "name": "ipython",
    "version": 3
   },
   "file_extension": ".py",
   "mimetype": "text/x-python",
   "name": "python",
   "nbconvert_exporter": "python",
   "pygments_lexer": "ipython3",
   "version": "3.8.10"
  },
  "varInspector": {
   "cols": {
    "lenName": 16,
    "lenType": 16,
    "lenVar": 40
   },
   "kernels_config": {
    "python": {
     "delete_cmd_postfix": "",
     "delete_cmd_prefix": "del ",
     "library": "var_list.py",
     "varRefreshCmd": "print(var_dic_list())"
    },
    "r": {
     "delete_cmd_postfix": ") ",
     "delete_cmd_prefix": "rm(",
     "library": "var_list.r",
     "varRefreshCmd": "cat(var_dic_list()) "
    }
   },
   "types_to_exclude": [
    "module",
    "function",
    "builtin_function_or_method",
    "instance",
    "_Feature"
   ],
   "window_display": false
  }
 },
 "nbformat": 4,
 "nbformat_minor": 5
}
